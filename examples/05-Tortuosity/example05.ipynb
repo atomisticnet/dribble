{
 "cells": [
  {
   "cell_type": "markdown",
   "metadata": {},
   "source": [
    "#### Install `Dribble` and its requirements"
   ]
  },
  {
   "cell_type": "code",
   "execution_count": null,
   "metadata": {},
   "outputs": [],
   "source": [
    "try:\n",
    "    import dribble\n",
    "except ImportError:\n",
    "    %pip install git+https://github.com/atomisticnet/dribble.git"
   ]
  },
  {
   "cell_type": "markdown",
   "metadata": {},
   "source": [
    "# Tortuosity\n",
    "\n",
    "The *tortuosity* is a measure of the *detour* that a percolating diffusion pathway takes.  If the length of the diffusion pathway between two periodic images of the same site is $L$ and the total distance between the periodic images is $D$, the tortuosity is\n",
    "\n",
    "\\begin{equation}\n",
    "  \\tau = \\frac{L}{D}\n",
    "  \\quad .\n",
    "\\end{equation}\n",
    "\n",
    "This means, a tortuosity of $1$ is ideal (no detour), and the larger the tortuosity becomes, the greater the detour that has to be taken.\n",
    "\n",
    "## Input File\n",
    "\n",
    "Here, we will determine the tortuosity for the nearest-neighbor site percolation problem of [Example 0](../00-Command-Line-Usage/example00.ipynb). Once again, the same general input file can be used:"
   ]
  },
  {
   "cell_type": "code",
   "execution_count": 1,
   "metadata": {},
   "outputs": [
    {
     "name": "stdout",
     "output_type": "stream",
     "text": [
      "Overwriting input-bond-rule.json\n"
     ]
    }
   ],
   "source": [
    "%%writefile input-bond-rule.json\n",
    "{\n",
    "    \"structure\": \"Cu-fcc.vasp\",\n",
    "    \"formula_units\": 1.0,\n",
    "    \"sublattices\": {\n",
    "        \"A\": {\n",
    "            \"description\": \"Copper sites\",\n",
    "            \"sites\": {\"species\": [\"Cu\"]},\n",
    "            \"initial_occupancy\": {\"Vac\": 1.0}\n",
    "        }\n",
    "    },\n",
    "    \"bonds\": [\n",
    "        {\n",
    "            \"sublattices\": [\"A\", \"A\"],\n",
    "            \"bond_rules\": [[\"NearestNeighborBR\"]]\n",
    "        }\n",
    "    ],\n",
    "    \"percolating_species\": [\"Cu\"],\n",
    "    \"flip_sequence\": [[\"Vac\", \"Cu\"]]\n",
    "}"
   ]
  },
  {
   "cell_type": "code",
   "execution_count": null,
   "metadata": {},
   "outputs": [],
   "source": [
    "%%writefile Cu-fcc.vasp\n",
    "FCC Structure\n",
    "3.6\n",
    "     0.0      0.5      0.5\n",
    "     0.5      0.0      0.5\n",
    "     0.5      0.5      0.0\n",
    "Cu\n",
    "1\n",
    "direct\n",
    "     0.0      0.0      0.0 Cu"
   ]
  },
  {
   "cell_type": "markdown",
   "metadata": {},
   "source": [
    "See [Example 0](../00-Command-Line-Usage/example00.ipynb) for a detailed discussion of the input file.\n",
    "\n",
    "## Calculation using the Command Line Tool\n",
    "\n",
    "The tortuosity is computed by `Dribble`'s command line tool if the `-t` (or `--tortuosity`) flag is present.  Once again, care has to be taken to select a sufficiently large supercell.  Note, however, that computing the tortuosity can be extremely time consuming, as it involves determining the shortest pathway between two endpoints on a graph (the network of percolating pathways).  Therefore, we will use a much smaller supercell and fewer MC samples for this example:"
   ]
  },
  {
   "cell_type": "code",
   "execution_count": 2,
   "metadata": {},
   "outputs": [
    {
     "name": "stdout",
     "output_type": "stream",
     "text": [
      "\n",
      " Parsing input file 'input-bond-rule.json'... done.\n",
      "\n",
      " Setting up lattice and neighbor lists... done.\n",
      "\n",
      " Lattice and Sites\n",
      " -----------------\n",
      "\n",
      " Lattice vectors:\n",
      "\n",
      "     0.00000000    7.20000000    7.20000000\n",
      "     7.20000000    0.00000000    7.20000000\n",
      "     7.20000000    7.20000000    0.00000000\n",
      "\n",
      " total number of sites : 64\n",
      " occupied sites        : 0 (0 static)\n",
      " vacant sites          : 64 (0 static)\n",
      " number of NNs         : 12\n",
      "\n",
      " Neighbor List\n",
      " -------------\n",
      "\n",
      " interaction range          : NNs only\n",
      " boxes per lattice direction: 2 2 2\n",
      " total number of atoms      : 64\n",
      " av. number of atoms per box: 8.0\n",
      "\n",
      " Initializing percolator... done.\n",
      "\n",
      " MC percolation simulation\n",
      " -------------------------\n",
      "\n",
      " Calculating tortuosity\n",
      " Averaging over 10 samples:\n",
      "\n",
      " 0%                25%                 50%                 75%                 100%\n",
      " ▮▮▮▮▮▮▮▮▮▮▮▮▮▮▮▮▮▮▮▮▮▮▮▮▮▮▮▮▮▮▮▮▮▮▮▮▮▮▮▮▮▮▮▮▮▮▮▮▮▮▮▮▮▮▮▮▮▮▮▮▮▮▮▮▮▮▮▮▮▮▮▮▮▮▮▮▮▮▮▮ done.\n",
      "\n",
      " Writing results to: percol.tortuosity\n",
      "\n",
      " All done.  Elapsed CPU time: 00h01m08s\n",
      "\n"
     ]
    }
   ],
   "source": [
    "! dribble input-bond-rule.json --supercell 4 4 4 -t --samples 10"
   ]
  },
  {
   "cell_type": "markdown",
   "metadata": {},
   "source": [
    "The results of the tortuosity simulation are written to a file named `percol.tortuosity`.  Let's take a look at the generated output:"
   ]
  },
  {
   "cell_type": "code",
   "execution_count": 3,
   "metadata": {},
   "outputs": [
    {
     "name": "stdout",
     "output_type": "stream",
     "text": [
      "#     N           p        Tortuosity(p)\n",
      "           1  0.01562500          inf\n",
      "           2  0.03125000          inf\n",
      "           3  0.04687500          inf\n",
      "           4  0.06250000          inf\n",
      "           5  0.07812500          inf\n",
      "           6  0.09375000          inf\n",
      "           7  0.10937500          inf\n",
      "           8  0.12500000          inf\n",
      "           9  0.14062500   1.53571429\n",
      "          10  0.15625000   1.56250000\n",
      "          11  0.17187500   1.57118056\n",
      "          12  0.18750000   1.58241342\n",
      "          13  0.20312500   1.62804464\n",
      "          14  0.21875000   1.68485235\n",
      "          15  0.23437500   1.59865450\n",
      "          16  0.25000000   1.67601277\n",
      "          17  0.26562500   1.63427650\n",
      "          18  0.28125000   1.59010351\n",
      "          19  0.29687500   1.57873844\n"
     ]
    }
   ],
   "source": [
    "!head -n20 percol.tortuosity"
   ]
  },
  {
   "cell_type": "markdown",
   "metadata": {},
   "source": [
    "The first column in the output file is the number of occupied sites, the second column is the fraction of occupied sites relative to the total number of sites, and the third column is the corresponding tortuosity.  **Below the percolation threshold ($x_c\\approx{}0.199$) the tortuosity is not defined, so the values are not meaningful.**  For concentrations that are never found to be percolating, the tortuosity is simply set to infinity (\"inf\").  However, in the implemented Monte Carlo method structures may sometimes \"by coincidence\" become percolating even below the percolation threshold, and these values should be ignored.\n",
    "\n",
    "Let's plot the tortuosity for $x>x_c$:"
   ]
  },
  {
   "cell_type": "code",
   "execution_count": 4,
   "metadata": {},
   "outputs": [
    {
     "data": {
      "image/png": "[encoded data removed]",
      "text/plain": [
       "<Figure size 800x500 with 1 Axes>"
      ]
     },
     "metadata": {},
     "output_type": "display_data"
    }
   ],
   "source": [
    "%matplotlib inline\n",
    "from matplotlib import pyplot as plt\n",
    "import numpy as np\n",
    "data = np.loadtxt(\"percol.tortuosity\")\n",
    "fig, ax = plt.subplots(figsize=(8,5))\n",
    "\n",
    "x_c = 0.199\n",
    "\n",
    "ax.set_xlim(0.199,1)\n",
    "ax.set_xlabel(\"Occupancy ($p$)\", fontsize=16)\n",
    "ax.set_ylabel(r\"Tortuosity (\\tau)\", fontsize=16, color=\"tab:blue\")\n",
    "ax.tick_params(labelsize=16)\n",
    "ax.tick_params(axis='y', labelcolor=\"tab:blue\")\n",
    "\n",
    "ax.plot(data[:,1], data[:,2], linewidth=3, color=\"tab:blue\")\n",
    "plt.show()"
   ]
  },
  {
   "cell_type": "markdown",
   "metadata": {},
   "source": [
    "As seen in the plot, tortuosity is not yet very well converged as we only used 10 Monte Carlo samples.  Additionally, the values near the percolation threshold are likely not yet converged with the cell size.  However, the overall trend is clear: For concentrations just above the percolation threshold the tortuosity is $\\tau>1.6$, i.e., diffusion pathways lead to detours of more than 60% of the diffusion distance.  Only above site concentrations of $\\sim{}0.7$ the tortuosity approaches $1.0$ meaning that the diffusion pathways span the structure without detour."
   ]
  }
 ],
 "metadata": {
  "kernelspec": {
   "display_name": "Python 3.8.8 ('base')",
   "language": "python",
   "name": "python3"
  },
  "language_info": {
   "codemirror_mode": {
    "name": "ipython",
    "version": 3
   },
   "file_extension": ".py",
   "mimetype": "text/x-python",
   "name": "python",
   "nbconvert_exporter": "python",
   "pygments_lexer": "ipython3",
   "version": "3.8.16"
  },
  "vscode": {
   "interpreter": {
    "hash": "fa97f1dcb59bb154421c5e93beb40b4fe97d9867222f7b6218b1f213b62f9917"
   }
  }
 },
 "nbformat": 4,
 "nbformat_minor": 2
}

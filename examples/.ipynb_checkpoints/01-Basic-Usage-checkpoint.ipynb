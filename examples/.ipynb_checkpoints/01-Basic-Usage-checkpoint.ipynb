{
 "cells": [
  {
   "cell_type": "markdown",
   "metadata": {},
   "source": [
    "Basic Usage of the ``Dribble`` Library\n",
    "-------------------------------------------\n",
    "\n",
    "For most applications, the three object classes `Input`, `Percolator`, and `Lattice`."
   ]
  },
  {
   "cell_type": "code",
   "execution_count": 1,
   "metadata": {
    "collapsed": true
   },
   "outputs": [],
   "source": [
    "from percol.io import Input\n",
    "from percol.percolator import Percolator\n",
    "from percol.lattice import Lattice"
   ]
  },
  {
   "cell_type": "markdown",
   "metadata": {},
   "source": [
    "The `Input` class is used to load input fles in the ``JSON`` format and takes care of setting up sublattices and percolation rules. "
   ]
  },
  {
   "cell_type": "code",
   "execution_count": 2,
   "metadata": {
    "collapsed": true
   },
   "outputs": [],
   "source": [
    "#inp = Input.from_file(\"input-bond-rule.json\")\n",
    "#lat = Lattice.from_input_object(inp, supercell=[4, 4, 4])\n",
    "#percolator = Percolator.from_input_object(inp, lat, verbose=True)"
   ]
  },
  {
   "cell_type": "code",
   "execution_count": 3,
   "metadata": {
    "collapsed": true
   },
   "outputs": [],
   "source": [
    "#(pc_site_any, pc_site_two, pc_site_all, pc_bond_any, pc_bond_two, pc_bond_all\n",
    "#) = percolator.percolation_point(inp.flip_sequence, samples=100)"
   ]
  },
  {
   "cell_type": "code",
   "execution_count": 4,
   "metadata": {
    "collapsed": true
   },
   "outputs": [],
   "source": [
    "inp2 = Input.from_file(\"input-site-rule.json\")\n",
    "lat2 = Lattice.from_input_object(inp2, supercell=[6, 6, 6])\n",
    "percolator2 = Percolator.from_input_object(inp2, lat2, verbose=True)"
   ]
  },
  {
   "cell_type": "code",
   "execution_count": 8,
   "metadata": {},
   "outputs": [
    {
     "name": "stdout",
     "output_type": "stream",
     "text": [
      " Calculating an estimate for the percolation point p_c.\n",
      " Initial composition: Vac 4.00 TM 2.00 \n",
      " Averaging over 500 samples:\n",
      "\n",
      " 0%                25%                 50%                 75%                 100%\n",
      " ▮▮▮▮▮▮▮▮▮▮▮▮▮▮▮▮▮▮▮▮▮▮▮▮▮▮▮▮▮▮▮▮▮▮▮▮▮▮▮▮▮▮▮▮▮▮▮▮▮▮▮▮▮▮▮▮▮▮▮▮▮▮▮▮▮▮▮▮▮▮▮▮▮▮▮▮▮▮▮▮▮▮▮▮ done.\n",
      "\n",
      " Average percolating composition: Li 1.07 Vac 4.00 TM 0.93 \n",
      "\n"
     ]
    }
   ],
   "source": [
    "(pc_site_any2, pc_site_two2, pc_site_all2, pc_bond_any2, pc_bond_two2, pc_bond_all2\n",
    ") = percolator2.percolation_point(inp2.flip_sequence, samples=500)"
   ]
  },
  {
   "cell_type": "code",
   "execution_count": 9,
   "metadata": {},
   "outputs": [
    {
     "name": "stdout",
     "output_type": "stream",
     "text": [
      "percolation threshold: 1.0740277777777791\n"
     ]
    }
   ],
   "source": [
    "print(\"percolation threshold: {}\".format(pc_site_any2*2))"
   ]
  },
  {
   "cell_type": "code",
   "execution_count": 7,
   "metadata": {},
   "outputs": [
    {
     "ename": "SyntaxError",
     "evalue": "invalid syntax (<ipython-input-7-0e37e2fc2eee>, line 1)",
     "output_type": "error",
     "traceback": [
      "\u001b[0;36m  File \u001b[0;32m\"<ipython-input-7-0e37e2fc2eee>\"\u001b[0;36m, line \u001b[0;32m1\u001b[0m\n\u001b[0;31m    percolator2.\u001b[0m\n\u001b[0m                ^\u001b[0m\n\u001b[0;31mSyntaxError\u001b[0m\u001b[0;31m:\u001b[0m invalid syntax\n"
     ]
    }
   ],
   "source": [
    "percolator2."
   ]
  }
 ],
 "metadata": {
  "kernelspec": {
   "display_name": "Python 3",
   "language": "python",
   "name": "python3"
  },
  "language_info": {
   "codemirror_mode": {
    "name": "ipython",
    "version": 3
   },
   "file_extension": ".py",
   "mimetype": "text/x-python",
   "name": "python",
   "nbconvert_exporter": "python",
   "pygments_lexer": "ipython3",
   "version": "3.5.3"
  }
 },
 "nbformat": 4,
 "nbformat_minor": 2
}

{
 "cells": [
  {
   "cell_type": "markdown",
   "metadata": {},
   "source": [
    "# ``Dribble``'s Command Line Interface\n",
    "\n",
    "``Dribble`` is a library providing tools for analyzing diffusion pathways in crystalline materials with substitutional disorder.  However, some of this functionality can be accessed using the included command line tool which is also called ``dribble``.\n",
    "\n",
    "The ``dribble`` command line tool requires two input files\n",
    "\n",
    "- The general ``dribble`` input file in ``JSON`` format; and\n",
    "- An atomic structure file in ``VASP``'s ``POSCAR`` format.\n",
    "\n",
    "## Application: Site Percolation on the FCC Lattice\n",
    "\n",
    "As a simple example with known solution, let's consider the site percolation problem on the FCC lattice.  You can read more about [*percolation theory* on Wikipedia](https://en.wikipedia.org/wiki/Percolation_theory).  The site percolation threshold for the FCC structure is known from published numerical simulations and is about $x_c \\approx 0.199$ [according to Wikipedia](https://en.wikipedia.org/wiki/Percolation_threshold#Thresholds_on_3D_lattices).\n",
    "\n",
    "The site percolation problem asks the following question: Given a randomly occupied lattice, what is the lowest concentration of occupied lattice sites needed so that a percolating network of nearest-neighbor bonds is present.  This concentration is called **percolation threshold**.  Note that in this basic example, two neighboring sites are considered bonded when both are occupied.  This **bond rule** is implemented in ``dribble`` and is named ``NearestNeighborBR``.\n",
    "\n",
    "## General Input File\n",
    "\n",
    "Let's create an example ``dribble`` input file:"
   ]
  },
  {
   "cell_type": "code",
   "execution_count": 1,
   "metadata": {},
   "outputs": [
    {
     "name": "stdout",
     "output_type": "stream",
     "text": [
      "Overwriting input-bond-rule.json\n"
     ]
    }
   ],
   "source": [
    "%%writefile input-bond-rule.json\n",
    "{\n",
    "    \"structure\": \"../LiMO2-Crystal-Structures/Cu-fcc.vasp\",\n",
    "    \"formula_units\": 1.0,\n",
    "    \"sublattices\": {\n",
    "        \"A\": {\n",
    "            \"description\": \"Copper sites\",\n",
    "            \"sites\": {\"species\": [\"Cu\"]},\n",
    "            \"initial_occupancy\": {\"Vac\": 1.0}\n",
    "        }\n",
    "    },\n",
    "    \"bonds\": [\n",
    "        {\n",
    "            \"sublattices\": [\"A\", \"A\"],\n",
    "            \"bond_rules\": [[\"NearestNeighborBR\"]]\n",
    "        }\n",
    "    ],\n",
    "    \"percolating_species\": [\"Cu\"],\n",
    "    \"flip_sequence\": [[\"Vac\", \"Cu\"]]\n",
    "}"
   ]
  },
  {
   "cell_type": "markdown",
   "metadata": {},
   "source": [
    "Let's go through the ``dribble`` input file section by section:\n",
    "\n",
    "- The input atomic **structure** is the structure of FCC copper; \n",
    "- The number of **formula units** that the structure file corresponds to is 1;\n",
    "- There is only one **sublattice**, and we name it \"A\".  This sublattice is identified by species, as all sites (there is only one) are occupied by Cu.  At the beginning of the simulation, (a fraction of 1.0 of) all sites shall be initialized as vacancies (\"Vac\" species);\n",
    "- The only allowed **bonds** are between two sites of sublattice \"A\" following the ``NearestNeighborBR`` bond rule;\n",
    "- The **percolating species** is Cu for no particular reason; and\n",
    "- The simulation's **flip sequence** is such that all vacancy sites are one-by-one flipped to Cu.\n",
    "\n",
    "## Structure Input File\n",
    "\n",
    "The path to the atomic structure file is already defined in the general input file which points to the following POSCAR file:"
   ]
  },
  {
   "cell_type": "code",
   "execution_count": 2,
   "metadata": {},
   "outputs": [
    {
     "name": "stdout",
     "output_type": "stream",
     "text": [
      "FCC Structure\r\n",
      "3.6\r\n",
      "     0.0      0.5      0.5\r\n",
      "     0.5      0.0      0.5\r\n",
      "     0.5      0.5      0.0\r\n",
      "Cu\r\n",
      "1\r\n",
      "direct\r\n",
      "     0.0      0.0      0.0 Cu\r\n"
     ]
    }
   ],
   "source": [
    "%cat ../LiMO2-Crystal-Structures/Cu-fcc.vasp"
   ]
  },
  {
   "cell_type": "markdown",
   "metadata": {},
   "source": [
    "**Note:** Instead of specifying the structure file in the general input file, we could have also used a command line argument.  This can be useful when applying the same simulation parameters to a number of different structure files.\n",
    "\n",
    "## Calculation of the Percolation Threshold\n",
    "\n",
    "We can now run the ``dribble`` command line tool to calculate the percolation threshold for the FCC site percolation problem.  We cannot just use the primitive unit cell to determine the percolation threshold.  For technical reasons, the cell size has to be at least large enough so that the second-nearest neighbors of a site are not periodic images of the site itself.  In addition, **the percolation threshold converges with the size of the cell size used for the Monte Carlo simulation**.  Hence, we have to try increasingly larger cells to make sure that the value has converged.\n",
    "\n",
    "For the sake of time, we will consider a relatively small cell size in this example.\n",
    "\n",
    "Run ``dribble`` on the command line with option `-p` to compute the percolation threshold.  The cell size relative to the input structure is specified with the `--supercell` flag.  Here we will use a $10\\times{}10\\times{}10$ supercell (i.e., 1000 sites) which is still relatively small:"
   ]
  },
  {
   "cell_type": "code",
   "execution_count": 8,
   "metadata": {},
   "outputs": [
    {
     "name": "stdout",
     "output_type": "stream",
     "text": [
      "\n",
      " Parsing input file 'input-bond-rule.json'... done.\n",
      "\n",
      " Setting up lattice and neighbor lists... done.\n",
      "\n",
      " Lattice and Sites\n",
      " -----------------\n",
      "\n",
      " Lattice vectors:\n",
      "\n",
      "     0.00000000   18.00000000   18.00000000\n",
      "    18.00000000    0.00000000   18.00000000\n",
      "    18.00000000   18.00000000    0.00000000\n",
      "\n",
      " total number of sites : 1000\n",
      " occupied sites        : 0 (0 static)\n",
      " vacant sites          : 1000 (0 static)\n",
      " number of NNs         : 12\n",
      "\n",
      " Neighbor List\n",
      " -------------\n",
      "\n",
      " interaction range          : NNs only\n",
      " boxes per lattice direction: 5 5 5\n",
      " total number of atoms      : 1000\n",
      " av. number of atoms per box: 8.0\n",
      "\n",
      " Initializing percolator... done.\n",
      "\n",
      " MC percolation simulation\n",
      " -------------------------\n",
      "\n",
      " Calculating an estimate for the percolation point p_c.\n",
      " Initial composition: Vac 1.00 \n",
      " Averaging over 500 samples:\n",
      "\n",
      " 0%                25%                 50%                 75%                 100%\n",
      " ▮▮▮▮▮▮▮▮▮▮▮▮▮▮▮▮▮▮▮▮▮▮▮▮▮▮▮▮▮▮▮▮▮▮▮▮▮▮▮▮▮▮▮▮▮▮▮▮▮▮▮▮▮▮▮▮▮▮▮▮▮▮▮▮▮▮▮▮▮▮▮▮▮▮▮▮▮▮▮▮ done.\n",
      "\n",
      " Average percolating composition: Vac 0.80 Cu 0.20 \n",
      "\n",
      " Critical site (bond) concentrations to find a wrapping cluster\n",
      "\n",
      " in one or more dimensions   p_c1 = 0.20207400  (0.04104800)\n",
      " in two or three dimensions  p_c2 = 0.20925200  (0.04407633)\n",
      " in all three dimensions     p_c3 = 0.22772000  (0.05195633)\n",
      "\n",
      " All done.  Elapsed CPU time: 00h00m38s\n",
      "\n"
     ]
    }
   ],
   "source": [
    "! dribble input-bond-rule.json --supercell 10 10 10 -p"
   ]
  },
  {
   "cell_type": "markdown",
   "metadata": {},
   "source": [
    "With the $10\\times{}10\\times{}10$ supercell, the percolation threshold (`p_c1` in the output) is $x_c > 0.2$ which is still slightly higher than the literature value of $0.199$ (though the accuracy might be sufficient for your application).  Please go ahead and try a $20\\times{}20\\times{}20$ supercell if you run a reasonably new computer.  On a 2015 laptop the calculation takes around 12 minutes.  The result will be closer to the converged value.\n",
    "\n",
    "**Note:** The method used by `dribble` is a Monte Carlo (MC) algorithm, and therefore the precise numbers will differ from run to run.  The differences will become smaller with increasing cell size and increasing number of MC samples (the default is 500; can be adjusted with the `--samples` flag)."
   ]
  },
  {
   "cell_type": "code",
   "execution_count": 7,
   "metadata": {},
   "outputs": [
    {
     "name": "stdout",
     "output_type": "stream",
     "text": [
      "\n",
      " Parsing input file 'input-bond-rule.json'... done.\n",
      "\n",
      " Setting up lattice and neighbor lists... done.\n",
      "\n",
      " Lattice and Sites\n",
      " -----------------\n",
      "\n",
      " Lattice vectors:\n",
      "\n",
      "     0.00000000   36.00000000   36.00000000\n",
      "    36.00000000    0.00000000   36.00000000\n",
      "    36.00000000   36.00000000    0.00000000\n",
      "\n",
      " total number of sites : 8000\n",
      " occupied sites        : 0 (0 static)\n",
      " vacant sites          : 8000 (0 static)\n",
      " number of NNs         : 12\n",
      "\n",
      " Neighbor List\n",
      " -------------\n",
      "\n",
      " interaction range          : NNs only\n",
      " boxes per lattice direction: 9 9 9\n",
      " total number of atoms      : 8000\n",
      " av. number of atoms per box: 10.973936899862826\n",
      "\n",
      " Initializing percolator... done.\n",
      "\n",
      " MC percolation simulation\n",
      " -------------------------\n",
      "\n",
      " Calculating an estimate for the percolation point p_c.\n",
      " Initial composition: Vac 1.00 \n",
      " Averaging over 500 samples:\n",
      "\n",
      " 0%                25%                 50%                 75%                 100%\n",
      " ▮▮▮▮▮▮▮▮▮▮▮▮▮▮▮▮▮▮▮▮▮▮▮▮▮▮▮▮▮▮▮▮▮▮▮▮▮▮▮▮▮▮▮▮▮▮▮▮▮▮▮▮▮▮▮▮▮▮▮▮▮▮▮▮▮▮▮▮▮▮▮▮▮▮▮▮▮▮▮▮ done.\n",
      "\n",
      " Average percolating composition: Vac 0.80 Cu 0.20 \n",
      "\n",
      " Critical site (bond) concentrations to find a wrapping cluster\n",
      "\n",
      " in one or more dimensions   p_c1 = 0.19975575  (0.03996883)\n",
      " in two or three dimensions  p_c2 = 0.20385400  (0.04160596)\n",
      " in all three dimensions     p_c3 = 0.21076525  (0.04446742)\n",
      "\n",
      " All done.  Elapsed CPU time: 00h12m07s\n",
      "\n"
     ]
    }
   ],
   "source": [
    "# uncomment the follwing line to run the 20x20x20 supercell\n",
    "#! dribble input-bond-rule.json --supercell 20 20 20 -p"
   ]
  }
 ],
 "metadata": {
  "kernelspec": {
   "display_name": "Python 3",
   "language": "python",
   "name": "python3"
  },
  "language_info": {
   "codemirror_mode": {
    "name": "ipython",
    "version": 3
   },
   "file_extension": ".py",
   "mimetype": "text/x-python",
   "name": "python",
   "nbconvert_exporter": "python",
   "pygments_lexer": "ipython3",
   "version": "3.6.5"
  }
 },
 "nbformat": 4,
 "nbformat_minor": 2
}

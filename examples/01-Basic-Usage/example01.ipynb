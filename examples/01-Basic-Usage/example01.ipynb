{
 "cells": [
  {
   "cell_type": "markdown",
   "metadata": {},
   "source": [
    "Basic Usage of the ``Dribble`` Library\n",
    "-------------------------------------------\n",
    "\n",
    "For most applications, the three object classes `Input`, `Percolator`, and `Lattice`."
   ]
  },
  {
   "cell_type": "code",
   "execution_count": 1,
   "metadata": {
    "collapsed": true
   },
   "outputs": [],
   "source": [
    "from dribble import Input, Lattice, Percolator"
   ]
  },
  {
   "cell_type": "markdown",
   "metadata": {},
   "source": [
    "The `Input` class is used to load input fles in the ``JSON`` format and takes care of setting up sublattices and percolation rules.  An example ``Dribble`` input file named ``input-bond-rule.json`` is in the present directory. \n",
    "\n",
    "Load the input file with:"
   ]
  },
  {
   "cell_type": "code",
   "execution_count": 2,
   "metadata": {
    "collapsed": true
   },
   "outputs": [],
   "source": [
    "inp = Input.from_file(\"input-site-rule.json\")"
   ]
  },
  {
   "cell_type": "markdown",
   "metadata": {},
   "source": [
    "The input file also contains a path to a structure file, so that the lattice for the simulation can be constructed just based on the Input object.  The results of the Monte-Carlo simulation will depend on the size of the simulation cell, so that we here generate a 4x4x4 supercell:"
   ]
  },
  {
   "cell_type": "code",
   "execution_count": 3,
   "metadata": {
    "collapsed": true
   },
   "outputs": [],
   "source": [
    "lat = Lattice.from_input_object(inp, supercell=[4, 4, 4])"
   ]
  },
  {
   "cell_type": "markdown",
   "metadata": {},
   "source": [
    "Next, we set up an instance of the `Percolator` class that takes care of actual Monte Carlo simulations.  It only requires an `Input` object and a `Lattice` object as input."
   ]
  },
  {
   "cell_type": "code",
   "execution_count": 4,
   "metadata": {
    "collapsed": true
   },
   "outputs": [],
   "source": [
    "percolator = Percolator.from_input_object(inp, lat, verbose=True)"
   ]
  },
  {
   "cell_type": "markdown",
   "metadata": {},
   "source": [
    "Now, we can use the `percolator` to compute various quantities.  The most basic example is the percolation threshold, which can be obtained with the following command:"
   ]
  },
  {
   "cell_type": "code",
   "execution_count": 5,
   "metadata": {},
   "outputs": [
    {
     "name": "stdout",
     "output_type": "stream",
     "text": [
      " Calculating an estimate for the percolation point p_c.\n",
      " Initial composition: Vac 4.00 TM 2.00 \n",
      " Averaging over 100 samples:\n",
      "\n",
      " 0%                25%                 50%                 75%                 100%\n",
      " ▮▮▮▮▮▮▮▮▮▮▮▮▮▮▮▮▮▮▮▮▮▮▮▮▮▮▮▮▮▮▮▮▮▮▮▮▮▮▮▮▮▮▮▮▮▮▮▮▮▮▮▮▮▮▮▮▮▮▮▮▮▮▮▮▮▮▮▮▮▮▮▮▮▮▮▮▮▮▮▮▮▮▮▮▮▮▮▮▮▮▮▮▮▮▮▮▮▮▮▮ done.\n",
      "\n",
      " Average percolating composition: Vac 4.00 Li 1.10 TM 0.90 \n",
      "\n"
     ]
    }
   ],
   "source": [
    "(pc_site_any, pc_site_two, pc_site_all, pc_bond_any, pc_bond_two, pc_bond_all\n",
    ") = percolator.percolation_point(inp.flip_sequence, samples=100)"
   ]
  },
  {
   "cell_type": "markdown",
   "metadata": {},
   "source": [
    "If everything went well, the Monte-Carlo simulation should give as a result an average percolating composition of approximately Li<sub>1.1</sub>TM<sub>0.9</sub>.  Note that the exact result may vary a little due to finite size effects and the limited number of samples (here only 100) in the simulation.  Also note that the composition does not contain any oxygen, as the oxygen sublattice was defined to be static in the input file."
   ]
  },
  {
   "cell_type": "code",
   "execution_count": null,
   "metadata": {
    "collapsed": true
   },
   "outputs": [],
   "source": []
  }
 ],
 "metadata": {
  "kernelspec": {
   "display_name": "Python 3",
   "language": "python",
   "name": "python3"
  },
  "language_info": {
   "codemirror_mode": {
    "name": "ipython",
    "version": 3
   },
   "file_extension": ".py",
   "mimetype": "text/x-python",
   "name": "python",
   "nbconvert_exporter": "python",
   "pygments_lexer": "ipython3",
   "version": "3.5.3"
  }
 },
 "nbformat": 4,
 "nbformat_minor": 2
}

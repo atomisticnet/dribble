{
 "cells": [
  {
   "cell_type": "markdown",
   "metadata": {},
   "source": [
    "# Bond and Site Rules\n",
    "\n",
    "``Dribble`` implements a number of different **bond rules** and **site rules** that determine the criteria under which sites bond with each other.  In general, these rules differ from material to material and from application to application.  \n",
    "\n",
    "For example, Li conduction in cation-disordered Li transition-metal (TM) oxides with rocksalt structure is known to proceed via so-called **0-TM** diffusion channels [1].  The rocksalt structure consist of two FCC sublattices, one for the cations (Li and TM in this case) and one for the oxygen atoms. Since the oxygen sites are all equivalent, we are again interested in percolation on the FCC lattice as in [example 00](../00-Command-Line-Usage/example00.ipynb).  However, instead of just a nearest-neighbor bond rule, we now have to encode an appropriate rule for 0-TM channels.\n",
    "\n",
    "[1] [Lee et al., Science 31, 2014, 519-522](http://doi.org/10.1126/science.1246432)"
   ]
  },
  {
   "cell_type": "markdown",
   "metadata": {},
   "source": [
    "## Bond Rules\n",
    "\n",
    "One way to think of 0-TM channels is in terms of a *bond* criterion between two Li sites:\n",
    "\n",
    "A 0-TM channel between two neighboring Li sites $i$ and $j$ exists if \n",
    "\n",
    "1. At least 2 sites $k$ and $l$ that are nearest neighbors of both $i$ and $j$ are also Li sites; and\n",
    "2. $k$ and $l$ are themselves nearest neighbors.\n",
    "\n",
    "We can express this condition using the `MinCommonNNNeighborsBR` bond rule provided by `dribble` (assuming that the cation sublattice is named \"cations\"):\n",
    "\n",
    "```\n",
    "    \"bonds\": [\n",
    "        {\n",
    "            \"sublattices\": [\"cations\", \"cations\"],\n",
    "            \"bond_rules\": [[\"MinCommonNNNeighborsBR\", {\"num_neighbors\": 2}]]\n",
    "        }\n",
    "    ],\n",
    "```\n",
    "\n",
    "The entire `dribble` input file with this bond rule is as follows:"
   ]
  },
  {
   "cell_type": "code",
   "execution_count": 1,
   "metadata": {},
   "outputs": [
    {
     "name": "stdout",
     "output_type": "stream",
     "text": [
      "Writing input-bond-rule.json\n"
     ]
    }
   ],
   "source": [
    "%%writefile input-bond-rule.json\n",
    "{\n",
    "    \"structure\": \"../LiMO2-Crystal-Structures/LiMO2-rotated.vasp\",\n",
    "    \"formula_units\": 1.0,\n",
    "    \"sublattices\": {\n",
    "        \"cations\": {\n",
    "            \"description\": \"Cation site\",\n",
    "            \"sites\": {\"species\": [\"Li\", \"Co\"]},\n",
    "            \"initial_occupancy\": {\"TM\": 1.0}\n",
    "        },\n",
    "        \"oxygen\": {\n",
    "            \"description\": \"oxygen sites\",\n",
    "            \"sites\": {\"species\": [\"O\"]},\n",
    "            \"ignore\": true\n",
    "        }\n",
    "    },\n",
    "    \"bonds\": [\n",
    "        {\n",
    "            \"sublattices\": [\"cations\", \"cations\"],\n",
    "            \"bond_rules\": [\n",
    "                [\"MinCommonNNNeighborsBR\", {\"num_neighbors\": 2}]\n",
    "            ]\n",
    "        }\n",
    "    ],\n",
    "    \"percolating_species\": [\"Li\"],\n",
    "    \"flip_sequence\": [[\"TM\", \"Li\"]]\n",
    "}\n"
   ]
  },
  {
   "cell_type": "markdown",
   "metadata": {},
   "source": [
    "Note how the oxygen sites are set to be ignored in the above input file.\n",
    "\n",
    "## Site Rules\n",
    "\n",
    "Alternatively to the above *bond rule* definition of 0-TM channels, we can also think of 0-TM channels as tetrahedral sites that are coordinated at all four faces by Li sites.  The *normal* cation sites in the rocksalt structure are *octahedral* sites, but the Li diffusion takes place via a *tetrahedral* intermediate.  To use such a **site rule** criterion, we require a structure file that also includes the tetrahedral sites (corresponding to the calcium fluorite structure).  Then we can define tetrahedral sites to be only accessible when coordinated by 4 Li sites.  The *sublattice* block for the tetrahedral sublattice looks as follows:\n",
    "\n",
    "```\n",
    "        \"tet\": {\n",
    "            \"description\": \"Tetrahedral site\",\n",
    "            \"sites\": [3, 4, 5, 6],\n",
    "            \"initial_occupancy\": {\"Vac\": 1.0},\n",
    "            \"site_rules\": [\n",
    "                [\"NeighborShellSR\",\n",
    "                 {\"stable_nb_shells\": [[\n",
    "                     {\"oct\": [{\"min\": 4, \"species\": [\"Li\"]}]}\n",
    "                   ]]\n",
    "                 }\n",
    "                ]\n",
    "            ]\n",
    "        },\n",
    "\n",
    "```\n",
    "\n",
    "There are a few differences to the previous input file:\n",
    "\n",
    "- The tetrahedral sites are defined explicitly by their occurance in the structure file (sites 3-6) instead of by species;\n",
    "- The **site rule** is defined in a new sub-block using neighbor shell occupations (implemented as `NeighborShellSR` site rule in `dribble`).  A neighbor shell site rule defines under which neighbor shell conditions the sites of a given sublattice become accessible.  Here, we require the first neighbor shell of each tetrahedral site to contain at least (`min`) 4 octahedral (`oct` sublattice) Li sites.\n",
    "\n",
    "The complete `dribble` input file is as follows:"
   ]
  },
  {
   "cell_type": "code",
   "execution_count": 5,
   "metadata": {},
   "outputs": [
    {
     "name": "stdout",
     "output_type": "stream",
     "text": [
      "Overwriting input-site-rule.json\n"
     ]
    }
   ],
   "source": [
    "%%writefile input-site-rule.json\n",
    "{\n",
    "    \"structure\": \"../LiMO2-Crystal-Structures/LiMO2+tet-rotated.vasp\",\n",
    "    \"formula_units\": 1,\n",
    "    \"cutoff\": 2.0,\n",
    "    \"sublattices\": {\n",
    "        \"tet\": {\n",
    "            \"description\": \"tetrahedral site\",\n",
    "            \"sites\": [3, 4, 5, 6],\n",
    "            \"initial_occupancy\": {\"Vac\": 1.0},\n",
    "            \"site_rules\": [\n",
    "                [\"NeighborShellSR\",\n",
    "                 {\"stable_nb_shells\": [[\n",
    "                     {\"oct\": [{\"min\": 4, \"species\": [\"Li\"]}]}\n",
    "                   ]]\n",
    "                 }\n",
    "                ]\n",
    "            ]\n",
    "        },\n",
    "        \"oct\": {\n",
    "            \"description\": \"octahedral site\",\n",
    "            \"sites\": [1, 2],\n",
    "            \"initial_occupancy\": {\"TM\": 1.0}\n",
    "        },\n",
    "        \"oxygen\": {\n",
    "            \"description\": \"oxygen sites\",\n",
    "            \"sites\": {\"species\": [\"O\"]},\n",
    "            \"ignore\": true\n",
    "        }\n",
    "    },\n",
    "    \"bonds\": [{\"sublattices\": [\"oct\", \"tet\"]}],\n",
    "    \"percolating_species\": [\"Li\", \"Vac\"],\n",
    "    \"static_species\": [\"Vac\"],\n",
    "    \"flip_sequence\": [[\"TM\", \"Li\"]]\n",
    "}"
   ]
  },
  {
   "cell_type": "markdown",
   "metadata": {},
   "source": [
    "Note three more differences compared to the *bond rule* input file:\n",
    "\n",
    "- An explicit **cutoff** of 2.0 Å is specified for the neighbor shell detection;\n",
    "- **Bonds** are now between octahedral (`oct`) and tetrahedral (`tet`) sites; and\n",
    "- Tetrahedral sites are occupied by species Vac which is defined to be a **static species**, i.e., the Vac sites do not change during the percolation simulation.\n",
    "\n",
    "## Percolation Simulations\n",
    "\n",
    "Now let's compare the results obtained using the two different percolation rules.\n",
    "\n",
    "1. Using the *bond rules*:"
   ]
  },
  {
   "cell_type": "code",
   "execution_count": 3,
   "metadata": {},
   "outputs": [
    {
     "name": "stdout",
     "output_type": "stream",
     "text": [
      "\n",
      " Parsing input file 'input-bond-rule.json'... done.\n",
      "\n",
      " Setting up lattice and neighbor lists... done.\n",
      "\n",
      " Lattice and Sites\n",
      " -----------------\n",
      "\n",
      " Lattice vectors:\n",
      "\n",
      "    16.97056275    0.00000000    0.00000000\n",
      "     8.48528137   14.69693846    0.00000000\n",
      "     8.48528137    4.89897949   27.71281292\n",
      "\n",
      " total number of sites : 432\n",
      " occupied sites        : 0 (0 static)\n",
      " vacant sites          : 432 (0 static)\n",
      " number of NNs         : 12\n",
      "\n",
      " Neighbor List\n",
      " -------------\n",
      "\n",
      " interaction range          : NNs only\n",
      " boxes per lattice direction: 3 3 5\n",
      " total number of atoms      : 432\n",
      " av. number of atoms per box: 9.6\n",
      "\n",
      " Initializing percolator... done.\n",
      "\n",
      " MC percolation simulation\n",
      " -------------------------\n",
      "\n",
      " Calculating an estimate for the percolation point p_c.\n",
      " Initial composition: TM 2.00 \n",
      " Averaging over 500 samples:\n",
      "\n",
      " 0%                25%                 50%                 75%                 100%\n",
      " ▮▮▮▮▮▮▮▮▮▮▮▮▮▮▮▮▮▮▮▮▮▮▮▮▮▮▮▮▮▮▮▮▮▮▮▮▮▮▮▮▮▮▮▮▮▮▮▮▮▮▮▮▮▮▮▮▮▮▮▮▮▮▮▮▮▮▮▮▮▮▮▮▮▮▮▮▮▮▮▮ done.\n",
      "\n",
      " Average percolating composition: TM 0.91 Li 1.09 \n",
      "\n",
      " Critical site (bond) concentrations to find a wrapping cluster\n",
      "\n",
      " in one or more dimensions   p_c1 = 0.54461574  (0.15089429)\n",
      " in two or three dimensions  p_c2 = 0.56527315  (0.17273765)\n",
      " in all three dimensions     p_c3 = 0.61381481  (0.23144444)\n",
      "\n",
      " All done.  Elapsed CPU time: 00h01m35s\n",
      "\n"
     ]
    }
   ],
   "source": [
    "! dribble input-bond-rule.json --supercell 6 6 6 -p"
   ]
  },
  {
   "cell_type": "markdown",
   "metadata": {},
   "source": [
    "2. Using the *site rules*:"
   ]
  },
  {
   "cell_type": "code",
   "execution_count": 6,
   "metadata": {},
   "outputs": [
    {
     "name": "stdout",
     "output_type": "stream",
     "text": [
      "\n",
      " Parsing input file 'input-site-rule.json'... done.\n",
      "\n",
      " Setting up lattice and neighbor lists... done.\n",
      "\n",
      " Lattice and Sites\n",
      " -----------------\n",
      "\n",
      " Lattice vectors:\n",
      "\n",
      "    16.97056275    0.00000000    0.00000000\n",
      "     8.48528137   14.69693846    0.00000000\n",
      "     8.48528137    4.89897949   27.71281292\n",
      "\n",
      " total number of sites : 1296\n",
      " occupied sites        : 864 (864 static)\n",
      " vacant sites          : 432 (0 static)\n",
      " average number of NNs : 9.333333333333334\n",
      "\n",
      " Neighbor List\n",
      " -------------\n",
      "\n",
      " interaction range          : 2.0\n",
      " boxes per lattice direction: 4 4 7\n",
      " total number of atoms      : 1296\n",
      " av. number of atoms per box: 11.571428571428571\n",
      "\n",
      " Initializing percolator... done.\n",
      "\n",
      " MC percolation simulation\n",
      " -------------------------\n",
      "\n",
      " Calculating an estimate for the percolation point p_c.\n",
      " Initial composition: Vac 4.00 TM 2.00 \n",
      " Averaging over 500 samples:\n",
      "\n",
      " 0%                25%                 50%                 75%                 100%\n",
      " ▮▮▮▮▮▮▮▮▮▮▮▮▮▮▮▮▮▮▮▮▮▮▮▮▮▮▮▮▮▮▮▮▮▮▮▮▮▮▮▮▮▮▮▮▮▮▮▮▮▮▮▮▮▮▮▮▮▮▮▮▮▮▮▮▮▮▮▮▮▮▮▮▮▮▮▮▮▮▮▮ done.\n",
      "\n",
      " Average percolating composition: Vac 4.00 TM 0.92 Li 1.08 \n",
      "\n",
      " Critical site (bond) concentrations to find a wrapping cluster\n",
      "\n",
      " in one or more dimensions   p_c1 = 0.54145833  (0.05005952)\n",
      " in two or three dimensions  p_c2 = 0.56528241  (0.05914683)\n",
      " in all three dimensions     p_c3 = 0.61083333  (0.08036376)\n",
      "\n",
      " All done.  Elapsed CPU time: 00h02m08s\n",
      "\n"
     ]
    }
   ],
   "source": [
    "! dribble input-site-rule.json --supercell 6 6 6 -p"
   ]
  },
  {
   "cell_type": "markdown",
   "metadata": {},
   "source": [
    "## Discussion\n",
    "\n",
    "- The literature value for the percolation threshold is $\\approx 1.09$ Li per formula unit, and both approaches get this about right.\n",
    "- The computational cost of the *site rule* implementation is slightly higher as the simulation involves a greater total number of sites.  However, some diffusion channels might be more naturally defined in terms of intermediate sites than in terms of bonds."
   ]
  },
  {
   "cell_type": "code",
   "execution_count": null,
   "metadata": {},
   "outputs": [],
   "source": []
  }
 ],
 "metadata": {
  "kernelspec": {
   "display_name": "Python 3",
   "language": "python",
   "name": "python3"
  },
  "language_info": {
   "codemirror_mode": {
    "name": "ipython",
    "version": 3
   },
   "file_extension": ".py",
   "mimetype": "text/x-python",
   "name": "python",
   "nbconvert_exporter": "python",
   "pygments_lexer": "ipython3",
   "version": "3.6.5"
  }
 },
 "nbformat": 4,
 "nbformat_minor": 2
}
